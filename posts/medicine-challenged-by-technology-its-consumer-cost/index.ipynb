{
 "cells": [
  {
   "cell_type": "markdown",
   "metadata": {
    "collapsed": false
   },
   "source": [
    "**Health-care is served from a menu of treatments and guidelines designed decades ago, primarily by the western countries.**  The dynamics of the world has significantly changed. Approximately 70% of world population is now living in developing countries, and that number is expected to rise to 90% in next 2-3 decades. \n",
    "\n",
    "\n",
    "<img src=\"https://www.dropbox.com/s/eyxkjwu6jdq3jej/image1.png?raw=1\" align = \"middile\" height=\"450\" width=\"550\">\n",
    "\n",
    "\n",
    "Health care consumers and advocates are now beginning to question the same old ingredients that don't quite serve well the eclectic needs of our growing population.  \n",
    "\n",
    "\n",
    "A fresh health-care services menu with upfront pricing is needed. One that is cost effective and tailored to their local needs just like our local restaurants. It was refreshing to read in [PATH's 2030 report](http://ic2030.org/), how the “jugaad” or frugal innovation is finally catching the attention of westerners innovators.  For mass adoption and any significant impact in the developing world, health-care innovation will need to justify costs at each step of product development.  Innovators now need to bring in affordability for end users at the very center of their product design.  \n",
    "\n",
    "I was also upset to see that the report lacked digital health based innovations. Although, they briefly mention about mobile health based technology and its role in managing chronic diseases, the report did not pick any specific startup disrupting the mHealth sector.  I wanted to read more about those startups.\n",
    "\n",
    "\n",
    "In resource-limited settings where both the number of care providers and costs are limiting factors to provide even basic primary care, digital health can be leveraged to help provide the last mile of care in rural population. Even in developed nations the medical system struggles to produce super health evangelists like Dr. Brenner (from the hotspotter's reading) who care intimately about the well being of a patient just like their mom would.  For example, care in the US is built around single patient-doctor encounters like a primary care visit or an emergency room encounter. However, many of the patients diseases such as diabetes require continual long-term care in close partnership with their care team. Just one-off clinic visits can't capture the longitudinal disease complexities the patient has to live with.  Smart informatics tools could fill this gap by helping the patient capture, understand and manage their disease in close partnership with their doctor.  \n",
    "\n",
    "Enabling the transformation of doctor driven care to the doctor-patient partnership is a great opportunity for entrepreneurs of this decade. I believe digital health based innovation can help aid in the redesign of health-care services menu for sustainable and tailored care. \n"
   ]
  },
  {
   "cell_type": "code",
   "execution_count": null,
   "metadata": {
    "collapsed": true
   },
   "outputs": [],
   "source": []
  }
 ],
 "metadata": {
  "kernelspec": {
   "display_name": "Python 3",
   "language": "python",
   "name": "python3"
  },
  "language_info": {
   "codemirror_mode": {
    "name": "ipython",
    "version": 3
   },
   "file_extension": ".py",
   "mimetype": "text/x-python",
   "name": "python",
   "nbconvert_exporter": "python",
   "pygments_lexer": "ipython3",
   "version": "3.5.0"
  }
 },
 "nbformat": 4,
 "nbformat_minor": 0
}
