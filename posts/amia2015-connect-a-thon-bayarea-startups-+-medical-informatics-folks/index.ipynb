{
 "cells": [
  {
   "cell_type": "markdown",
   "metadata": {
    "collapsed": false
   },
   "source": [
    "#[AMIA2015](https://www.amia.org/amia2015/) - [Connect-a-thon](https://www.amia.org/amia2015/connectathon)\n",
    "\n",
    "[AMIA](https://www.amia.org) organized an interesting forum to bring together some of the _DigitalHealth_ startups in Bay area at their annual [conference](https://www.amia.org/amia2015/) in San Francisco. The goal was to pair startups with some of the selected AMIA members for a candid mutual learning session/s.  \n",
    "\n",
    "Personally for me it was a great experience to hear from and meet folks form 7 exciting startups in a single room. I would say coming to #AMIA2015 just for this justified my time. The group had engaging converasations and my hope is that some of these discussions would blend into longer term engagements of like minds. Win Win !!!!\n",
    "\n",
    "Brief notes about each startup present at this meetup.\n",
    "\n",
    "- [Mango Health](http://www.mangohealth.com)\n",
    "    - app for medication compliance\n",
    "    - working with PBM - pharmacy benefits managers to offer an enterprise version of the app\n",
    "\n",
    "\n",
    "- [Iodine](http://www.iodine.com/)\n",
    "    - Expert medical info + your reviews of medications. / crowdsource\n",
    "    - effect of medication\n",
    "    - knowing more about your medication its success, failures\n",
    "    - see which meds are effective for e.g. in depression\n",
    "\n",
    "\n",
    "- Hexcare(early startup)\n",
    "\n",
    "    - EHR data integration of the patient generated data  a.k.a data coming self-quantified patients\n",
    "    - taking data from home\n",
    "    - chronic illness disease management at home\n",
    "\n",
    "\n",
    "- FertilityIQ(early startup)\n",
    "\n",
    "    - information & rating about fertility clinics & doctor\n",
    "    - find clinics with a high rate of success for your fertility needs\n",
    "\n",
    "\n",
    "- [Canvas Medical](www.canvasmedical.com)\n",
    "    - new interface on top of EMR\n",
    "    - agile and unstructured data model - ability to customize and adapt\n",
    "\n",
    "\n",
    "- [Amino](https://amino.com/)\n",
    "\n",
    "    - design - user experience\n",
    "    - connect people to the best care possible\n",
    "    - helps consumer finds doctors near them that have experience treating similar patients as you\n",
    "\n",
    "\n",
    "- [Ambient Aware](http://ambientclinical.com/)\n",
    "    - spin off from Mayo Clinic\n",
    "    - products\n",
    "        - sepsis sniffer\n",
    "        - emergency dept dashboard\n",
    "        - AWARE - manage information in EMR especially for ICU"
   ]
  }
 ],
 "metadata": {
  "kernelspec": {
   "display_name": "Python 3",
   "language": "python",
   "name": "python3"
  },
  "language_info": {
   "codemirror_mode": {
    "name": "ipython",
    "version": 3
   },
   "file_extension": ".py",
   "mimetype": "text/x-python",
   "name": "python",
   "nbconvert_exporter": "python",
   "pygments_lexer": "ipython3",
   "version": "3.5.0"
  }
 },
 "nbformat": 4,
 "nbformat_minor": 0
}
