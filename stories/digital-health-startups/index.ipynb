{
 "cells": [
  {
   "cell_type": "markdown",
   "metadata": {
    "collapsed": false
   },
   "source": [
    "## Keeping tab of Digital Health Startups \n",
    "_ this page will be updated as and when I find interesting companies creating value for end consumers_"
   ]
  },
  {
   "cell_type": "markdown",
   "metadata": {},
   "source": [
    "### [Lyra Health](www.lyrahealth.com)\n",
    "  - Transforming Mental Health Care."
   ]
  },
  {
   "cell_type": "markdown",
   "metadata": {},
   "source": [
    "### [Mango Health](http://www.mangohealth.com)\n",
    "    - app for medication compliance\n",
    "    - working with PBM - pharmacy benefits managers to offer an enterprise version of the app"
   ]
  },
  {
   "cell_type": "markdown",
   "metadata": {},
   "source": [
    "### [Iodine](http://www.iodine.com/)\n",
    "    - Expert medical info + your reviews of medications. / crowdsource\n",
    "    - effect of medication\n",
    "    - knowing more about your medication its success, failures\n",
    "    - see which meds are effective for e.g. in depression\n",
    "\n"
   ]
  },
  {
   "cell_type": "markdown",
   "metadata": {},
   "source": [
    "### Hexcare(early startup)\n",
    "\n",
    "    - EHR data integration of the patient generated data  a.k.a data coming self-quantified patients\n",
    "    - taking data from home\n",
    "    - chronic illness disease management at home\n"
   ]
  },
  {
   "cell_type": "markdown",
   "metadata": {},
   "source": [
    "### FertilityIQ(early startup)\n",
    "    - information & rating about fertility clinics & doctor\n",
    "    - find clinics with a high rate of success for your fertility needs\n",
    "\n"
   ]
  },
  {
   "cell_type": "markdown",
   "metadata": {},
   "source": [
    "### [Canvas Medical](www.canvasmedical.com)\n",
    "    - new interface on top of EMR\n",
    "    - agile and unstructured data model - ability to customize and adapt"
   ]
  },
  {
   "cell_type": "markdown",
   "metadata": {},
   "source": [
    "### [Amino](https://amino.com/)\n",
    "\n",
    "    - design - user experience\n",
    "    - connect people to the best care possible\n",
    "    - helps consumer finds doctors near them that have experience treating similar patients as you\n"
   ]
  },
  {
   "cell_type": "markdown",
   "metadata": {},
   "source": [
    "### [Ambient Aware](http://ambientclinical.com/)\n",
    "    - spin off from Mayo Clinic\n",
    "    - products\n",
    "        - sepsis sniffer\n",
    "        - emergency dept dashboard\n",
    "        - AWARE - manage information in EMR especially for ICU"
   ]
  }
 ],
 "metadata": {
  "kernelspec": {
   "display_name": "Python 3",
   "language": "python",
   "name": "python3"
  },
  "language_info": {
   "codemirror_mode": {
    "name": "ipython",
    "version": 3
   },
   "file_extension": ".py",
   "mimetype": "text/x-python",
   "name": "python",
   "nbconvert_exporter": "python",
   "pygments_lexer": "ipython3",
   "version": "3.5.0"
  }
 },
 "nbformat": 4,
 "nbformat_minor": 0
}
